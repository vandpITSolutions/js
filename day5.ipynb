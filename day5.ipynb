{
 "cells": [
  {
   "cell_type": "code",
   "execution_count": 2,
   "id": "7a80b115",
   "metadata": {},
   "outputs": [
    {
     "name": "stdout",
     "output_type": "stream",
     "text": [
      "{ name: \"Abhay\", age: 21, isStudent: true }\n"
     ]
    }
   ],
   "source": [
    "let student = {\n",
    "  name: \"Abhay\",\n",
    "  age: 21,\n",
    "  isStudent: true\n",
    "};\n",
    "\n",
    "console.log(student);\n"
   ]
  },
  {
   "cell_type": "code",
   "execution_count": 3,
   "id": "e126d958",
   "metadata": {},
   "outputs": [
    {
     "name": "stdout",
     "output_type": "stream",
     "text": [
      "Abhay\n",
      "21\n"
     ]
    }
   ],
   "source": [
    "console.log(student.name);   // Abhay\n",
    "console.log(student[\"age\"]); // 21\n"
   ]
  },
  {
   "cell_type": "code",
   "execution_count": 4,
   "id": "b03cd84a",
   "metadata": {},
   "outputs": [
    {
     "name": "stdout",
     "output_type": "stream",
     "text": [
      "{ name: \"Abhay\", age: 22, isStudent: false }\n"
     ]
    }
   ],
   "source": [
    "student.age = 22;             // change age\n",
    "student[\"isStudent\"] = false; // change boolean\n",
    "\n",
    "console.log(student);\n"
   ]
  },
  {
   "cell_type": "code",
   "execution_count": 5,
   "id": "dad5efc6",
   "metadata": {},
   "outputs": [
    {
     "name": "stdout",
     "output_type": "stream",
     "text": [
      "{ name: \"Abhay\", age: 22, grade: \"A\" }\n"
     ]
    }
   ],
   "source": [
    "student.grade = \"A\";     // add new property\n",
    "delete student.isStudent; // remove property\n",
    "\n",
    "console.log(student);\n"
   ]
  },
  {
   "cell_type": "code",
   "execution_count": 6,
   "id": "ccbbbe97",
   "metadata": {},
   "outputs": [
    {
     "name": "stdout",
     "output_type": "stream",
     "text": [
      "name : Abhay\n",
      "age : 22\n",
      "grade : A\n"
     ]
    }
   ],
   "source": [
    "for (let key in student) {\n",
    "  console.log(key, \":\", student[key]);\n",
    "}\n"
   ]
  },
  {
   "cell_type": "code",
   "execution_count": 7,
   "id": "c56ec2b4",
   "metadata": {},
   "outputs": [
    {
     "name": "stdout",
     "output_type": "stream",
     "text": [
      "Hello Neha\n"
     ]
    }
   ],
   "source": [
    "let person = {\n",
    "  name: \"Neha\",\n",
    "  greet: function() {\n",
    "    return \"Hello \" + this.name;\n",
    "  }\n",
    "};\n",
    "\n",
    "console.log(person.greet()); // Hello Neha\n"
   ]
  },
  {
   "cell_type": "code",
   "execution_count": 8,
   "id": "cbb0b0ca",
   "metadata": {},
   "outputs": [
    {
     "name": "stdout",
     "output_type": "stream",
     "text": [
      "{ brand: \"Toyota\", model: \"Corolla\", year: 2020 }\n"
     ]
    }
   ],
   "source": [
    "let car = {\n",
    "  brand: \"Toyota\",\n",
    "  model: \"Corolla\",\n",
    "  year: 2020\n",
    "};\n",
    "\n",
    "console.log(car);\n"
   ]
  },
  {
   "cell_type": "code",
   "execution_count": 9,
   "id": "9b9f53bb",
   "metadata": {},
   "outputs": [
    {
     "name": "stdout",
     "output_type": "stream",
     "text": [
      "{ brand: \"Toyota\", model: \"Corolla\", year: 2023, color: \"red\" }\n"
     ]
    }
   ],
   "source": [
    "car.year = 2023;     // change year\n",
    "car.color = \"red\";   // add new property\n",
    "\n",
    "console.log(car);\n"
   ]
  },
  {
   "cell_type": "code",
   "execution_count": 10,
   "id": "9f33a8ca",
   "metadata": {},
   "outputs": [
    {
     "name": "stdout",
     "output_type": "stream",
     "text": [
      "{ brand: \"Toyota\", year: 2023, color: \"red\" }\n"
     ]
    }
   ],
   "source": [
    "delete car.model;\n",
    "\n",
    "console.log(car);\n"
   ]
  },
  {
   "cell_type": "code",
   "execution_count": 11,
   "id": "39bdfc51",
   "metadata": {},
   "outputs": [
    {
     "name": "stdout",
     "output_type": "stream",
     "text": [
      "brand : Toyota\n",
      "year : 2023\n",
      "color : red\n"
     ]
    }
   ],
   "source": [
    "for (let key in car) {\n",
    "  console.log(key, \":\", car[key]);\n",
    "}\n"
   ]
  },
  {
   "cell_type": "code",
   "execution_count": 12,
   "id": "89af5e28",
   "metadata": {},
   "outputs": [
    {
     "name": "stdout",
     "output_type": "stream",
     "text": [
      "Brand: Toyota, Year: 2023, Color: red\n"
     ]
    }
   ],
   "source": [
    "car.carInfo = function() {\n",
    "  return `Brand: ${this.brand}, Year: ${this.year}, Color: ${this.color}`;\n",
    "};\n",
    "\n",
    "console.log(car.carInfo());\n"
   ]
  }
 ],
 "metadata": {
  "kernelspec": {
   "display_name": "Deno",
   "language": "typescript",
   "name": "deno"
  },
  "language_info": {
   "codemirror_mode": "typescript",
   "file_extension": ".ts",
   "mimetype": "text/x.typescript",
   "name": "typescript",
   "nbconvert_exporter": "script",
   "pygments_lexer": "typescript",
   "version": "5.9.2"
  }
 },
 "nbformat": 4,
 "nbformat_minor": 5
}
