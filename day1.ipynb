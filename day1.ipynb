{
 "cells": [
  {
   "cell_type": "markdown",
   "id": "decf43cd",
   "metadata": {},
   "source": [
    "# 🌐 What is JavaScript?\n",
    "\n",
    "**JavaScript (JS)** is a high-level, interpreted programming language.  \n",
    "It was created in **1995** by Brendan Eich.  \n",
    "It is one of the **core technologies of the web**, along with **HTML** and **CSS**.  \n",
    "While **HTML** structures the page and **CSS** styles it, **JavaScript makes it dynamic and interactive**.\n",
    "\n",
    "---\n",
    "\n",
    "## ⚡ Why Use JavaScript?\n",
    "\n",
    "- Add **interactivity** (forms, buttons, animations, games).  \n",
    "- Build **web apps** (like Gmail, Facebook, Netflix).  \n",
    "- Work with **APIs** (fetching data from servers).  \n",
    "- Used in **frontend** (browser) and **backend** (Node.js).\n",
    "\n",
    "---\n",
    "\n",
    "## 🛠 Features\n",
    "\n",
    "- **Lightweight & flexible language**  \n",
    "- **Event-driven** (reacts to user actions)  \n",
    "- **Cross-platform** (runs on all modern browsers)  \n",
    "- **Supports OOP** (object-oriented programming)  \n",
    "- **Huge ecosystem** (libraries & frameworks like React, Angular, Vue)\n",
    "\n",
    "---\n",
    "\n",
    "## 📌 Where JavaScript Runs?\n",
    "\n",
    "- **Client-side (Browser)** → Runs inside web browsers (Chrome, Firefox, Edge, etc.)  \n",
    "- **Server-side (Node.js)** → Runs outside browsers, used for backend\n"
   ]
  },
  {
   "cell_type": "code",
   "execution_count": 6,
   "id": "3843d651",
   "metadata": {},
   "outputs": [],
   "source": [
    "let age = 20;        // can change later\n",
    "const pi = 3.14;     // constant, cannot change\n"
   ]
  },
  {
   "cell_type": "code",
   "execution_count": 7,
   "id": "8642b649",
   "metadata": {},
   "outputs": [],
   "source": [
    "let name = \"Abhay\";   // string\n",
    "let age = 21;         // number\n",
    "let isStudent = true; // boolean\n",
    "let x;                // undefined\n",
    "let y = null;         // null\n"
   ]
  },
  {
   "cell_type": "code",
   "execution_count": 8,
   "id": "1a23c749",
   "metadata": {},
   "outputs": [
    {
     "name": "stdout",
     "output_type": "stream",
     "text": [
      "13\n",
      "7\n",
      "30\n",
      "3.3333333333333335\n",
      "1\n"
     ]
    }
   ],
   "source": [
    "let a = 10, b = 3;\n",
    "console.log(a + b); // 13\n",
    "console.log(a - b); // 7\n",
    "console.log(a * b); // 30\n",
    "console.log(a / b); // 3.333...\n",
    "console.log(a % b); // remainder → 1\n"
   ]
  },
  {
   "cell_type": "code",
   "execution_count": 9,
   "id": "05360c43",
   "metadata": {},
   "outputs": [
    {
     "name": "stdout",
     "output_type": "stream",
     "text": [
      "B grade\n"
     ]
    }
   ],
   "source": [
    "let marks = 85;\n",
    "\n",
    "if (marks >= 90) {\n",
    "  console.log(\"A grade\");\n",
    "} else if (marks >= 75) {\n",
    "  console.log(\"B grade\");\n",
    "} else {\n",
    "  console.log(\"C grade\");\n",
    "}\n"
   ]
  },
  {
   "cell_type": "code",
   "execution_count": 10,
   "id": "69301bf2",
   "metadata": {},
   "outputs": [
    {
     "name": "stdout",
     "output_type": "stream",
     "text": [
      "Number: 1\n",
      "Number: 2\n",
      "Number: 3\n",
      "Number: 4\n",
      "Number: 5\n",
      "Hello 1\n",
      "Hello 2\n",
      "Hello 3\n"
     ]
    },
    {
     "data": {
      "text/plain": [
       "\u001b[33m3\u001b[39m"
      ]
     },
     "execution_count": 10,
     "metadata": {},
     "output_type": "execute_result"
    }
   ],
   "source": [
    "// for loop\n",
    "for (let i = 1; i <= 5; i++) {\n",
    "  console.log(\"Number:\", i);\n",
    "}\n",
    "\n",
    "// while loop\n",
    "let count = 1;\n",
    "while (count <= 3) {\n",
    "  console.log(\"Hello\", count);\n",
    "  count++;\n",
    "}\n"
   ]
  },
  {
   "cell_type": "code",
   "execution_count": 11,
   "id": "70ce9603",
   "metadata": {},
   "outputs": [
    {
     "name": "stdout",
     "output_type": "stream",
     "text": [
      "8\n"
     ]
    }
   ],
   "source": [
    "function add(x, y) {\n",
    "  return x + y;\n",
    "}\n",
    "\n",
    "console.log(add(5, 3)); // 8\n"
   ]
  },
  {
   "cell_type": "code",
   "execution_count": 12,
   "id": "ad766c91",
   "metadata": {},
   "outputs": [
    {
     "name": "stdout",
     "output_type": "stream",
     "text": [
      "Hello JS\n"
     ]
    }
   ],
   "source": [
    "console.log(\"Hello JS\");"
   ]
  },
  {
   "cell_type": "code",
   "execution_count": 13,
   "id": "11ee0d2a",
   "metadata": {},
   "outputs": [
    {
     "name": "stdout",
     "output_type": "stream",
     "text": [
      "You can vote!\n"
     ]
    }
   ],
   "source": [
    "let age = 18;\n",
    "\n",
    "if (age >= 18) {\n",
    "  console.log(\"You can vote!\");\n",
    "}\n"
   ]
  },
  {
   "cell_type": "code",
   "execution_count": 14,
   "id": "004b9e34",
   "metadata": {},
   "outputs": [
    {
     "name": "stdout",
     "output_type": "stream",
     "text": [
      "Odd number\n"
     ]
    }
   ],
   "source": [
    "let number = 5;\n",
    "\n",
    "if (number % 2 === 0) {\n",
    "  console.log(\"Even number\");\n",
    "} else {\n",
    "  console.log(\"Odd number\");\n",
    "}\n"
   ]
  },
  {
   "cell_type": "code",
   "execution_count": 15,
   "id": "a37a29f2",
   "metadata": {},
   "outputs": [
    {
     "name": "stdout",
     "output_type": "stream",
     "text": [
      "Grade: C\n"
     ]
    }
   ],
   "source": [
    "let score = 72;\n",
    "\n",
    "if (score >= 90) {\n",
    "  console.log(\"Grade: A\");\n",
    "} else if (score >= 75) {\n",
    "  console.log(\"Grade: B\");\n",
    "} else if (score >= 50) {\n",
    "  console.log(\"Grade: C\");\n",
    "} else {\n",
    "  console.log(\"Grade: F\");\n",
    "}\n"
   ]
  },
  {
   "cell_type": "code",
   "execution_count": 16,
   "id": "c3ce1873",
   "metadata": {},
   "outputs": [
    {
     "name": "stdout",
     "output_type": "stream",
     "text": [
      "Yes\n"
     ]
    }
   ],
   "source": [
    "let age = 20;\n",
    "let canVote = (age >= 18) ? \"Yes\" : \"No\";\n",
    "console.log(canVote); // Yes\n"
   ]
  }
 ],
 "metadata": {
  "kernelspec": {
   "display_name": "Deno",
   "language": "typescript",
   "name": "deno"
  },
  "language_info": {
   "codemirror_mode": "typescript",
   "file_extension": ".ts",
   "mimetype": "text/x.typescript",
   "name": "typescript",
   "nbconvert_exporter": "script",
   "pygments_lexer": "typescript",
   "version": "5.9.2"
  }
 },
 "nbformat": 4,
 "nbformat_minor": 5
}
