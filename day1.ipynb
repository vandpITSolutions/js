{
 "cells": [
  {
   "cell_type": "markdown",
   "id": "decf43cd",
   "metadata": {},
   "source": [
    "# 🌐 What is JavaScript?\n",
    "\n",
    "**JavaScript (JS)** is a high-level, interpreted programming language.  \n",
    "It was created in **1995** by Brendan Eich.  \n",
    "It is one of the **core technologies of the web**, along with **HTML** and **CSS**.  \n",
    "While **HTML** structures the page and **CSS** styles it, **JavaScript makes it dynamic and interactive**.\n",
    "\n",
    "---\n",
    "\n",
    "## ⚡ Why Use JavaScript?\n",
    "\n",
    "- Add **interactivity** (forms, buttons, animations, games).  \n",
    "- Build **web apps** (like Gmail, Facebook, Netflix).  \n",
    "- Work with **APIs** (fetching data from servers).  \n",
    "- Used in **frontend** (browser) and **backend** (Node.js).\n",
    "\n",
    "---\n",
    "\n",
    "## 🛠 Features\n",
    "\n",
    "- **Lightweight & flexible language**  \n",
    "- **Event-driven** (reacts to user actions)  \n",
    "- **Cross-platform** (runs on all modern browsers)  \n",
    "- **Supports OOP** (object-oriented programming)  \n",
    "- **Huge ecosystem** (libraries & frameworks like React, Angular, Vue)\n",
    "\n",
    "---\n",
    "\n",
    "## 📌 Where JavaScript Runs?\n",
    "\n",
    "- **Client-side (Browser)** → Runs inside web browsers (Chrome, Firefox, Edge, etc.)  \n",
    "- **Server-side (Node.js)** → Runs outside browsers, used for backend\n"
   ]
  },
  {
   "cell_type": "code",
   "execution_count": null,
   "id": "ad766c91",
   "metadata": {},
   "outputs": [],
   "source": [
    "console.log(\"Hello JS\");"
   ]
  }
 ],
 "metadata": {
  "kernelspec": {
   "display_name": "Deno",
   "language": "typescript",
   "name": "deno"
  },
  "language_info": {
   "codemirror_mode": "typescript",
   "file_extension": ".ts",
   "mimetype": "text/x.typescript",
   "name": "typescript",
   "nbconvert_exporter": "script",
   "pygments_lexer": "typescript",
   "version": "5.9.2"
  }
 },
 "nbformat": 4,
 "nbformat_minor": 5
}
