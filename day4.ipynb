{
 "cells": [
  {
   "cell_type": "code",
   "execution_count": 5,
   "id": "81861448",
   "metadata": {},
   "outputs": [],
   "source": [
    "let fruits = [\"apple\", \"banana\", \"cherry\"];\n",
    "let numbers = [1, 2, 3, 4, 5];\n",
    "let mixed = [\"hello\", 10, true];\n"
   ]
  },
  {
   "cell_type": "code",
   "execution_count": 6,
   "id": "0b5540d2",
   "metadata": {},
   "outputs": [
    {
     "name": "stdout",
     "output_type": "stream",
     "text": [
      "apple\n",
      "cherry\n"
     ]
    }
   ],
   "source": [
    "console.log(fruits[0]); // apple\n",
    "console.log(fruits[2]); // cherry\n"
   ]
  },
  {
   "cell_type": "code",
   "execution_count": 7,
   "id": "09d6403a",
   "metadata": {},
   "outputs": [
    {
     "name": "stdout",
     "output_type": "stream",
     "text": [
      "[ \"apple\", \"mango\", \"cherry\" ]\n"
     ]
    }
   ],
   "source": [
    "fruits[1] = \"mango\";  // change second element\n",
    "fruits.push(\"orange\"); // add at end\n",
    "fruits.unshift(\"kiwi\"); // add at start\n",
    "fruits.pop();           // remove last\n",
    "fruits.shift();         // remove first\n",
    "\n",
    "console.log(fruits);\n"
   ]
  },
  {
   "cell_type": "code",
   "execution_count": 8,
   "id": "8794e02b",
   "metadata": {},
   "outputs": [
    {
     "name": "stdout",
     "output_type": "stream",
     "text": [
      "10\n",
      "20\n",
      "30\n",
      "40\n",
      "10\n",
      "20\n",
      "30\n",
      "40\n"
     ]
    }
   ],
   "source": [
    "let numbers = [10, 20, 30, 40];\n",
    "\n",
    "// for loop\n",
    "for (let i = 0; i < numbers.length; i++) {\n",
    "  console.log(numbers[i]);\n",
    "}\n",
    "\n",
    "// forEach loop\n",
    "numbers.forEach(num => console.log(num));\n"
   ]
  },
  {
   "cell_type": "code",
   "execution_count": 9,
   "id": "93eecfcf",
   "metadata": {},
   "outputs": [
    {
     "name": "stdout",
     "output_type": "stream",
     "text": [
      "5\n",
      "10\n",
      "15\n",
      "20\n"
     ]
    }
   ],
   "source": [
    "let numbers = [5, 10, 15, 20];\n",
    "\n",
    "for (let i = 0; i < numbers.length; i++) {\n",
    "  console.log(numbers[i]);\n",
    "}\n"
   ]
  },
  {
   "cell_type": "code",
   "execution_count": 10,
   "id": "d6822583",
   "metadata": {},
   "outputs": [
    {
     "name": "stdout",
     "output_type": "stream",
     "text": [
      "[ 0, 5, 10, 15, 20, 25 ]\n"
     ]
    }
   ],
   "source": [
    "numbers.push(25);      // add at end\n",
    "numbers.unshift(0);    // add at start\n",
    "\n",
    "console.log(numbers);\n"
   ]
  },
  {
   "cell_type": "code",
   "execution_count": 11,
   "id": "14322ba7",
   "metadata": {},
   "outputs": [
    {
     "name": "stdout",
     "output_type": "stream",
     "text": [
      "[ 5, 10, 15, 20 ]\n"
     ]
    }
   ],
   "source": [
    "numbers.shift(); // removes first (0)\n",
    "numbers.pop();   // removes last (25)\n",
    "\n",
    "console.log(numbers);\n"
   ]
  },
  {
   "cell_type": "code",
   "execution_count": 12,
   "id": "bddb3bc6",
   "metadata": {},
   "outputs": [
    {
     "name": "stdout",
     "output_type": "stream",
     "text": [
      "2\n",
      "false\n"
     ]
    }
   ],
   "source": [
    "console.log(numbers.indexOf(15));     // 2\n",
    "console.log(numbers.includes(30));    // false\n"
   ]
  },
  {
   "cell_type": "code",
   "execution_count": 13,
   "id": "b2ea91d3",
   "metadata": {},
   "outputs": [
    {
     "name": "stdout",
     "output_type": "stream",
     "text": [
      "50\n"
     ]
    }
   ],
   "source": [
    "function sumArray(arr) {\n",
    "  let sum = 0;\n",
    "  arr.forEach(num => sum += num);\n",
    "  return sum;\n",
    "}\n",
    "\n",
    "console.log(sumArray(numbers)); // 50\n"
   ]
  }
 ],
 "metadata": {
  "kernelspec": {
   "display_name": "Deno",
   "language": "typescript",
   "name": "deno"
  },
  "language_info": {
   "codemirror_mode": "typescript",
   "file_extension": ".ts",
   "mimetype": "text/x.typescript",
   "name": "typescript",
   "nbconvert_exporter": "script",
   "pygments_lexer": "typescript",
   "version": "5.9.2"
  }
 },
 "nbformat": 4,
 "nbformat_minor": 5
}
