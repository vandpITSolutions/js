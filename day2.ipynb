{
 "cells": [
  {
   "cell_type": "code",
   "execution_count": null,
   "id": "e2700c10",
   "metadata": {},
   "outputs": [],
   "source": [
    "for (let i = 1; i <= 5; i++) {\n",
    "  console.log(\"Number:\", i);\n",
    "}\n"
   ]
  },
  {
   "cell_type": "code",
   "execution_count": null,
   "id": "ffcb20d7",
   "metadata": {},
   "outputs": [],
   "source": [
    "let count = 1;\n",
    "\n",
    "while (count <= 3) {\n",
    "  console.log(\"Hello\", count);\n",
    "  count++;\n",
    "}\n"
   ]
  },
  {
   "cell_type": "code",
   "execution_count": null,
   "id": "d06e75ea",
   "metadata": {},
   "outputs": [],
   "source": [
    "let num = 5;\n",
    "\n",
    "do {\n",
    "  console.log(\"Number is\", num);\n",
    "  num--;\n",
    "} while (num > 0);\n"
   ]
  },
  {
   "cell_type": "code",
   "execution_count": null,
   "id": "3abce6b2",
   "metadata": {},
   "outputs": [],
   "source": [
    "let fruits = [\"apple\", \"banana\", \"cherry\"];\n",
    "\n",
    "for (let fruit of fruits) {\n",
    "  console.log(fruit);\n",
    "}\n"
   ]
  },
  {
   "cell_type": "code",
   "execution_count": null,
   "id": "dbf59a2d",
   "metadata": {},
   "outputs": [],
   "source": [
    "let student = { name: \"Abhay\", age: 21, grade: \"A\" };\n",
    "\n",
    "for (let key in student) {\n",
    "  console.log(key, \":\", student[key]);\n",
    "}\n"
   ]
  },
  {
   "cell_type": "code",
   "execution_count": null,
   "id": "1c4dc035",
   "metadata": {},
   "outputs": [],
   "source": [
    "array.forEach(function(element, index, array) {\n",
    "  // code here\n",
    "});\n"
   ]
  },
  {
   "cell_type": "code",
   "execution_count": null,
   "id": "8d37a78d",
   "metadata": {},
   "outputs": [],
   "source": [
    "let numbers = [10, 20, 30, 40];\n",
    "\n",
    "numbers.forEach(function(num) {\n",
    "  console.log(num);\n",
    "});\n"
   ]
  },
  {
   "cell_type": "code",
   "execution_count": null,
   "id": "0ea30410",
   "metadata": {},
   "outputs": [],
   "source": [
    "let fruits = [\"apple\", \"banana\", \"cherry\"];\n",
    "\n",
    "fruits.forEach(function(fruit, index) {\n",
    "  console.log(index, fruit);\n",
    "});\n"
   ]
  },
  {
   "cell_type": "code",
   "execution_count": null,
   "id": "2904f364",
   "metadata": {},
   "outputs": [],
   "source": [
    "let colors = [\"red\", \"green\", \"blue\"];\n",
    "\n",
    "colors.forEach((color, i) => {\n",
    "  console.log(`Color ${i + 1}: ${color}`);\n",
    "});\n"
   ]
  }
 ],
 "metadata": {
  "kernelspec": {
   "display_name": "Deno",
   "language": "typescript",
   "name": "deno"
  },
  "language_info": {
   "name": "typescript"
  }
 },
 "nbformat": 4,
 "nbformat_minor": 5
}
