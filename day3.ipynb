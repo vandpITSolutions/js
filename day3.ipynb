{
 "cells": [
  {
   "cell_type": "code",
   "execution_count": 1,
   "id": "41289318",
   "metadata": {},
   "outputs": [
    {
     "name": "stdout",
     "output_type": "stream",
     "text": [
      "Hello Abhay!\n"
     ]
    }
   ],
   "source": [
    "function greet(name) {\n",
    "  return \"Hello \" + name + \"!\";\n",
    "}\n",
    "\n",
    "console.log(greet(\"Abhay\")); // Hello Abhay!\n"
   ]
  },
  {
   "cell_type": "code",
   "execution_count": 2,
   "id": "c96fe450",
   "metadata": {},
   "outputs": [
    {
     "name": "stdout",
     "output_type": "stream",
     "text": [
      "8\n"
     ]
    }
   ],
   "source": [
    "const add = function(a, b) {\n",
    "  return a + b;\n",
    "};\n",
    "\n",
    "console.log(add(5, 3)); // 8\n"
   ]
  },
  {
   "cell_type": "code",
   "execution_count": 3,
   "id": "703625d6",
   "metadata": {},
   "outputs": [
    {
     "name": "stdout",
     "output_type": "stream",
     "text": [
      "24\n"
     ]
    }
   ],
   "source": [
    "const multiply = (x, y) => x * y;\n",
    "\n",
    "console.log(multiply(4, 6)); // 24\n"
   ]
  },
  {
   "cell_type": "code",
   "execution_count": 4,
   "id": "9b174931",
   "metadata": {},
   "outputs": [
    {
     "name": "stdout",
     "output_type": "stream",
     "text": [
      "Welcome Guest\n",
      "Welcome Neha\n"
     ]
    }
   ],
   "source": [
    "function greetUser(name = \"Guest\") {\n",
    "  return \"Welcome \" + name;\n",
    "}\n",
    "\n",
    "console.log(greetUser());        // Welcome Guest\n",
    "console.log(greetUser(\"Neha\"));  // Welcome Neha\n"
   ]
  },
  {
   "cell_type": "code",
   "execution_count": 5,
   "id": "f1ba822a",
   "metadata": {},
   "outputs": [
    {
     "name": "stdout",
     "output_type": "stream",
     "text": [
      "Negative\n"
     ]
    }
   ],
   "source": [
    "function checkNumber(num) {\n",
    "  if (num > 0) return \"Positive\";\n",
    "  else if (num < 0) return \"Negative\";\n",
    "  else return \"Zero\";\n",
    "}\n",
    "\n",
    "console.log(checkNumber(-5)); // Negative\n"
   ]
  },
  {
   "cell_type": "code",
   "execution_count": 6,
   "id": "2e8b9656",
   "metadata": {},
   "outputs": [
    {
     "name": "stdout",
     "output_type": "stream",
     "text": [
      "25\n",
      "100\n"
     ]
    }
   ],
   "source": [
    "function square(num) {\n",
    "  return num * num;\n",
    "}\n",
    "\n",
    "console.log(square(5));  // 25\n",
    "console.log(square(10)); // 100\n"
   ]
  },
  {
   "cell_type": "code",
   "execution_count": 7,
   "id": "984aa512",
   "metadata": {},
   "outputs": [
    {
     "name": "stdout",
     "output_type": "stream",
     "text": [
      "true\n",
      "false\n"
     ]
    }
   ],
   "source": [
    "function isEven(num) {\n",
    "  return num % 2 === 0;\n",
    "}\n",
    "\n",
    "console.log(isEven(4)); // true\n",
    "console.log(isEven(7)); // false\n"
   ]
  },
  {
   "cell_type": "code",
   "execution_count": 8,
   "id": "6178f309",
   "metadata": {},
   "outputs": [
    {
     "name": "stdout",
     "output_type": "stream",
     "text": [
      "12\n"
     ]
    }
   ],
   "source": [
    "function findMax(a, b, c) {\n",
    "  if (a >= b && a >= c) {\n",
    "    return a;\n",
    "  } else if (b >= a && b >= c) {\n",
    "    return b;\n",
    "  } else {\n",
    "    return c;\n",
    "  }\n",
    "}\n",
    "\n",
    "console.log(findMax(5, 12, 9)); // 12\n"
   ]
  },
  {
   "cell_type": "code",
   "execution_count": 9,
   "id": "6791a994",
   "metadata": {},
   "outputs": [
    {
     "name": "stdout",
     "output_type": "stream",
     "text": [
      "100\n"
     ]
    }
   ],
   "source": [
    "function sumArray(arr) {\n",
    "  let sum = 0;\n",
    "  arr.forEach(num => {\n",
    "    sum += num;\n",
    "  });\n",
    "  return sum;\n",
    "}\n",
    "\n",
    "console.log(sumArray([10, 20, 30, 40])); // 100\n"
   ]
  },
  {
   "cell_type": "code",
   "execution_count": 10,
   "id": "e8528483",
   "metadata": {},
   "outputs": [
    {
     "name": "stdout",
     "output_type": "stream",
     "text": [
      "120\n",
      "5040\n"
     ]
    }
   ],
   "source": [
    "function factorial(n) {\n",
    "  let result = 1;\n",
    "  for (let i = 1; i <= n; i++) {\n",
    "    result *= i;\n",
    "  }\n",
    "  return result;\n",
    "}\n",
    "\n",
    "console.log(factorial(5)); // 120\n",
    "console.log(factorial(7)); // 5040\n"
   ]
  }
 ],
 "metadata": {
  "kernelspec": {
   "display_name": "Deno",
   "language": "typescript",
   "name": "deno"
  },
  "language_info": {
   "codemirror_mode": "typescript",
   "file_extension": ".ts",
   "mimetype": "text/x.typescript",
   "name": "typescript",
   "nbconvert_exporter": "script",
   "pygments_lexer": "typescript",
   "version": "5.9.2"
  }
 },
 "nbformat": 4,
 "nbformat_minor": 5
}
